{
 "cells": [
  {
   "cell_type": "code",
   "execution_count": 4,
   "metadata": {},
   "outputs": [
    {
     "data": {
      "text/plain": [
       "'OK'"
      ]
     },
     "execution_count": 4,
     "metadata": {},
     "output_type": "execute_result"
    }
   ],
   "source": [
    "#faça um pip install opencv-python\n",
    "\n",
    "import pyautogui as pg\n",
    "import time as t\n",
    "import pyperclip\n",
    "\n",
    "\n",
    "\n",
    "def clicar_meio():\n",
    "    return pg.click(x + largura/2 , y + altura/2)\n",
    "\n",
    "\n",
    "\n",
    "#email = pg.prompt('Escreva o email')\n",
    "#assunto = pg.prompt('Escreva o assunto')\n",
    "#mensagem = pg.prompt('Escreva a mensagem')\n",
    "\n",
    "email = 'aaa@gmail.com'\n",
    "assunto = 'aaa'\n",
    "mensagem = '''\n",
    "aaa\n",
    "'''\n",
    "pg.alert('Não manuseie a máquina enquanto o programa estiver sendo rodado.')\n",
    "\n",
    "pg.PAUSE = 1\n",
    "t.sleep(0.5)\n",
    "pg.press('win')\n",
    "\n",
    "\n",
    "pg.write('edge')\n",
    "pg.press('enter')\n",
    "t.sleep(0.5)\n",
    "\n",
    "pg.write('gmail')\n",
    "pg.press('enter')\n",
    "\n",
    "item = pg.locateOnScreen('busca_google_gmail.png', confidence=0.7)\n",
    "while not item:\n",
    "    t.sleep(1)    \n",
    "x,y,largura,altura = item\n",
    "clicar_meio()\n",
    "\n",
    "\n",
    "while not pg.locateOnScreen('logo_gmail.png', confidence=0.7):\n",
    "    t.sleep(1)\n",
    "\n",
    "\n",
    "#abrir a caixa de email\n",
    "x,y,largura,altura = pg.locateOnScreen('escrever_icon.png', confidence=0.7)\n",
    "clicar_meio()\n",
    "t.sleep(1.5)\n",
    "\n",
    "# Preencher os dados\n",
    "pyperclip.copy(email)\n",
    "pg.hotkey('ctrl','v')\n",
    "pg.press('enter')\n",
    "pg.press('tab')\n",
    "\n",
    "pyperclip.copy(assunto)\n",
    "pg.hotkey('ctrl','v')\n",
    "pg.press('tab')\n",
    "\n",
    "pyperclip.copy(mensagem)\n",
    "pg.hotkey('ctrl','v')\n",
    "\n",
    "pg.hotkey('ctrl','enter')\n",
    "\n",
    "pg.alert('Máquina liberada.')\n",
    "\n",
    "\n",
    "\n",
    "\n"
   ]
  }
 ],
 "metadata": {
  "kernelspec": {
   "display_name": "Python 3.9.12 ('base')",
   "language": "python",
   "name": "python3"
  },
  "language_info": {
   "codemirror_mode": {
    "name": "ipython",
    "version": 3
   },
   "file_extension": ".py",
   "mimetype": "text/x-python",
   "name": "python",
   "nbconvert_exporter": "python",
   "pygments_lexer": "ipython3",
   "version": "3.9.12"
  },
  "orig_nbformat": 4,
  "vscode": {
   "interpreter": {
    "hash": "665796ea3363072d3a6057ac2fdbe3c4fcb0d17a4b92295d9707f78e9c46c0af"
   }
  }
 },
 "nbformat": 4,
 "nbformat_minor": 2
}
